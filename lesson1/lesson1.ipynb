{
 "cells": [
  {
   "cell_type": "markdown",
   "metadata": {},
   "source": [
    "# Introductory course to GIS in Python and task-automation\n",
    "\n",
    "## This course is open and online, offered by University of Helsinki. Let's use it to learn some GIS using pure python, and apply the course content to our data from Argentina. Optimally, by the end of the course, we will have a tool that allows us to import metadata of different data types and display them on a map."
   ]
  },
  {
   "cell_type": "code",
   "execution_count": 1,
   "metadata": {},
   "outputs": [],
   "source": [
    "# import required geometries from shapely module\n",
    "from shapely.geometry import Point, LineString, Polygon\n",
    "import numpy as np\n",
    "\n",
    "# Create Point geometric object(s) with coordinates\n",
    "point1 = Point(0.5, 0.5)\n",
    "point2 = Point(1.0, -1.0)\n",
    "point3 = Point(1.5, 0.7)\n",
    "\n",
    "# a 3D point\n",
    "point3D = Point(9.26, -2.456, 0.57)"
   ]
  },
  {
   "cell_type": "code",
   "execution_count": 2,
   "metadata": {},
   "outputs": [
    {
     "data": {
      "image/svg+xml": [
       "<svg xmlns=\"http://www.w3.org/2000/svg\" xmlns:xlink=\"http://www.w3.org/1999/xlink\" width=\"100.0\" height=\"100.0\" viewBox=\"-0.5 -0.5 2.0 2.0\" preserveAspectRatio=\"xMinYMin meet\"><g transform=\"matrix(1,0,0,-1,0,1.0)\"><circle cx=\"0.5\" cy=\"0.5\" r=\"0.06\" stroke=\"#555555\" stroke-width=\"0.02\" fill=\"#66cc99\" opacity=\"0.6\" /></g></svg>"
      ],
      "text/plain": [
       "<shapely.geometry.point.Point at 0x1112c6290>"
      ]
     },
     "execution_count": 2,
     "metadata": {},
     "output_type": "execute_result"
    }
   ],
   "source": [
    "# take a look at point 1 -  it is directly plotted\n",
    "point1"
   ]
  },
  {
   "cell_type": "code",
   "execution_count": 3,
   "metadata": {},
   "outputs": [
    {
     "name": "stdout",
     "output_type": "stream",
     "text": [
      "POINT (0.5 0.5)\n",
      "POINT (1 -1)\n",
      "POINT (1.5 0.7)\n",
      "POINT Z (9.26 -2.456 0.57)\n"
     ]
    }
   ],
   "source": [
    "# print point coordinates\n",
    "print(point1)\n",
    "print(point2)\n",
    "print(point3)\n",
    "print(point3D)"
   ]
  },
  {
   "cell_type": "code",
   "execution_count": 4,
   "metadata": {},
   "outputs": [
    {
     "data": {
      "text/plain": [
       "shapely.geometry.point.Point"
      ]
     },
     "execution_count": 4,
     "metadata": {},
     "output_type": "execute_result"
    }
   ],
   "source": [
    "# what's the data type of the point?\n",
    "type(point1)"
   ]
  },
  {
   "cell_type": "code",
   "execution_count": 5,
   "metadata": {},
   "outputs": [
    {
     "data": {
      "text/plain": [
       "'Point'"
      ]
     },
     "execution_count": 5,
     "metadata": {},
     "output_type": "execute_result"
    }
   ],
   "source": [
    "# can shapely also tell us that?\n",
    "point1.geom_type"
   ]
  },
  {
   "cell_type": "markdown",
   "metadata": {},
   "source": [
    "## let's apply some shapely built-in functions: Firt, we will extract the point coordinates, and display them. This implies how easy it will be to automate queries etc."
   ]
  },
  {
   "cell_type": "code",
   "execution_count": 6,
   "metadata": {},
   "outputs": [
    {
     "name": "stdout",
     "output_type": "stream",
     "text": [
      "xy coordinates of point 1 are:  (array('d', [0.5]), array('d', [0.5]))\n",
      "x coordinates of point 1 are:  0.5\n",
      "y coordinates of point 1 are:  0.5\n"
     ]
    }
   ],
   "source": [
    "xy = point1.xy\n",
    "x = point1.x\n",
    "y = point1.y\n",
    "\n",
    "print('xy coordinates of point 1 are: ', xy)\n",
    "print('x coordinates of point 1 are: ', x)\n",
    "print('y coordinates of point 1 are: ', y)"
   ]
  },
  {
   "cell_type": "markdown",
   "metadata": {},
   "source": [
    "## finally, let's calculate the distance between all points and find the largest one"
   ]
  },
  {
   "cell_type": "code",
   "execution_count": 7,
   "metadata": {},
   "outputs": [
    {
     "name": "stdout",
     "output_type": "stream",
     "text": [
      "Distance Points 1,2:  1.5811388300841898\n",
      "Distance Points 1,3:  1.019803902718557\n",
      "Distance Points 2,3:  1.772004514666935\n"
     ]
    }
   ],
   "source": [
    "dist_p12 = point1.distance(point2)\n",
    "print('Distance Points 1,2: ', dist_p12)\n",
    "dist_p13 = point1.distance(point3)\n",
    "print('Distance Points 1,3: ', dist_p13)\n",
    "dist_p23 = point2.distance(point3)\n",
    "print('Distance Points 2,3: ', dist_p23)\n",
    "#max_dist = np.max(dist_p12,dist_p13,dist_p23)"
   ]
  },
  {
   "cell_type": "code",
   "execution_count": 10,
   "metadata": {},
   "outputs": [
    {
     "name": "stdout",
     "output_type": "stream",
     "text": [
      "largest distance between points:  1.772004514666935\n"
     ]
    }
   ],
   "source": [
    "dist_max = np.max([dist_p12, dist_p13, dist_p23])\n",
    "print('largest distance between points: ', dist_max)"
   ]
  },
  {
   "cell_type": "code",
   "execution_count": null,
   "metadata": {},
   "outputs": [],
   "source": []
  }
 ],
 "metadata": {
  "kernelspec": {
   "display_name": "Python 3",
   "language": "python",
   "name": "python3"
  },
  "language_info": {
   "codemirror_mode": {
    "name": "ipython",
    "version": 3
   },
   "file_extension": ".py",
   "mimetype": "text/x-python",
   "name": "python",
   "nbconvert_exporter": "python",
   "pygments_lexer": "ipython3",
   "version": "3.7.7"
  }
 },
 "nbformat": 4,
 "nbformat_minor": 4
}
