{
 "cells": [
  {
   "cell_type": "markdown",
   "metadata": {},
   "source": [
    "# Introductory course to GIS in Python and task-automation\n",
    "\n",
    "## This course is open and online, offered by University of Helsinki. Let's use it to learn some GIS using pure python, and apply the course content to our data from Argentina. Optimally, by the end of the course, we will have a tool that allows us to import metadata of different data types and display them on a map."
   ]
  },
  {
   "cell_type": "code",
   "execution_count": 1,
   "metadata": {},
   "outputs": [],
   "source": [
    "# import required geometries from shapely module\n",
    "from shapely.geometry import Point, LineString, Polygon\n",
    "import numpy as np\n",
    "\n",
    "# Create Point geometric object(s) with coordinates\n",
    "point1 = Point(0.5, 0.5)\n",
    "point2 = Point(1.0, -1.0)\n",
    "point3 = Point(1.5, 0.7)\n",
    "\n",
    "# a 3D point\n",
    "point3D = Point(9.26, -2.456, 0.57)"
   ]
  },
  {
   "cell_type": "code",
   "execution_count": 2,
   "metadata": {},
   "outputs": [
    {
     "data": {
      "image/svg+xml": [
       "<svg xmlns=\"http://www.w3.org/2000/svg\" xmlns:xlink=\"http://www.w3.org/1999/xlink\" width=\"100.0\" height=\"100.0\" viewBox=\"-0.5 -0.5 2.0 2.0\" preserveAspectRatio=\"xMinYMin meet\"><g transform=\"matrix(1,0,0,-1,0,1.0)\"><circle cx=\"0.5\" cy=\"0.5\" r=\"0.06\" stroke=\"#555555\" stroke-width=\"0.02\" fill=\"#66cc99\" opacity=\"0.6\" /></g></svg>"
      ],
      "text/plain": [
       "<shapely.geometry.point.Point at 0x103fb0b10>"
      ]
     },
     "execution_count": 2,
     "metadata": {},
     "output_type": "execute_result"
    }
   ],
   "source": [
    "# take a look at point 1 -  it is directly plotted\n",
    "point1"
   ]
  },
  {
   "cell_type": "code",
   "execution_count": 3,
   "metadata": {},
   "outputs": [
    {
     "name": "stdout",
     "output_type": "stream",
     "text": [
      "POINT (0.5 0.5)\n",
      "POINT (1 -1)\n",
      "POINT (1.5 0.7)\n",
      "POINT Z (9.26 -2.456 0.57)\n"
     ]
    }
   ],
   "source": [
    "# print point coordinates\n",
    "print(point1)\n",
    "print(point2)\n",
    "print(point3)\n",
    "print(point3D)"
   ]
  },
  {
   "cell_type": "code",
   "execution_count": 4,
   "metadata": {},
   "outputs": [
    {
     "data": {
      "text/plain": [
       "shapely.geometry.point.Point"
      ]
     },
     "execution_count": 4,
     "metadata": {},
     "output_type": "execute_result"
    }
   ],
   "source": [
    "# what's the data type of the point?\n",
    "type(point1)"
   ]
  },
  {
   "cell_type": "code",
   "execution_count": 5,
   "metadata": {},
   "outputs": [
    {
     "data": {
      "text/plain": [
       "'Point'"
      ]
     },
     "execution_count": 5,
     "metadata": {},
     "output_type": "execute_result"
    }
   ],
   "source": [
    "# can shapely also tell us that?\n",
    "point1.geom_type"
   ]
  },
  {
   "cell_type": "markdown",
   "metadata": {},
   "source": [
    "## let's apply some shapely built-in functions: Firt, we will extract the point coordinates, and display them. This implies how easy it will be to automate queries etc."
   ]
  },
  {
   "cell_type": "code",
   "execution_count": 6,
   "metadata": {},
   "outputs": [
    {
     "name": "stdout",
     "output_type": "stream",
     "text": [
      "xy coordinates of point 1 are:  (array('d', [0.5]), array('d', [0.5]))\n",
      "x coordinates of point 1 are:  0.5\n",
      "y coordinates of point 1 are:  0.5\n"
     ]
    }
   ],
   "source": [
    "xy = point1.xy\n",
    "x = point1.x\n",
    "y = point1.y\n",
    "\n",
    "print('xy coordinates of point 1 are: ', xy)\n",
    "print('x coordinates of point 1 are: ', x)\n",
    "print('y coordinates of point 1 are: ', y)"
   ]
  },
  {
   "cell_type": "markdown",
   "metadata": {},
   "source": [
    "## finally, let's calculate the distance between all points and find the largest one"
   ]
  },
  {
   "cell_type": "code",
   "execution_count": 7,
   "metadata": {},
   "outputs": [
    {
     "name": "stdout",
     "output_type": "stream",
     "text": [
      "Distance Points 1,2:  1.5811388300841898\n",
      "Distance Points 1,3:  1.019803902718557\n",
      "Distance Points 2,3:  1.772004514666935\n"
     ]
    }
   ],
   "source": [
    "dist_p12 = point1.distance(point2)\n",
    "print('Distance Points 1,2: ', dist_p12)\n",
    "dist_p13 = point1.distance(point3)\n",
    "print('Distance Points 1,3: ', dist_p13)\n",
    "dist_p23 = point2.distance(point3)\n",
    "print('Distance Points 2,3: ', dist_p23)\n",
    "#max_dist = np.max(dist_p12,dist_p13,dist_p23)"
   ]
  },
  {
   "cell_type": "code",
   "execution_count": 8,
   "metadata": {},
   "outputs": [
    {
     "name": "stdout",
     "output_type": "stream",
     "text": [
      "largest distance between points:  1.772004514666935\n"
     ]
    }
   ],
   "source": [
    "dist_max = np.max([dist_p12, dist_p13, dist_p23])\n",
    "print('largest distance between points: ', dist_max)"
   ]
  },
  {
   "cell_type": "markdown",
   "metadata": {},
   "source": [
    "## Now let's create a polyline using our 3 points (from the points or from scratch), look at its data type and perform some simple analyses"
   ]
  },
  {
   "cell_type": "code",
   "execution_count": 13,
   "metadata": {},
   "outputs": [],
   "source": [
    "line1 = LineString([point1,point2,point3])\n",
    "line2 = LineString([(0.5, -0.5), (1.0,1.0), (1.5,-0.7)])"
   ]
  },
  {
   "cell_type": "code",
   "execution_count": 14,
   "metadata": {},
   "outputs": [
    {
     "data": {
      "image/svg+xml": [
       "<svg xmlns=\"http://www.w3.org/2000/svg\" xmlns:xlink=\"http://www.w3.org/1999/xlink\" width=\"100.0\" height=\"100.0\" viewBox=\"0.432 -1.068 1.1360000000000001 1.836\" preserveAspectRatio=\"xMinYMin meet\"><g transform=\"matrix(1,0,0,-1,0,-0.30000000000000004)\"><polyline fill=\"none\" stroke=\"#66cc99\" stroke-width=\"0.03672\" points=\"0.5,0.5 1.0,-1.0 1.5,0.7\" opacity=\"0.8\" /></g></svg>"
      ],
      "text/plain": [
       "<shapely.geometry.linestring.LineString at 0x1076c7c90>"
      ]
     },
     "execution_count": 14,
     "metadata": {},
     "output_type": "execute_result"
    }
   ],
   "source": [
    "line1"
   ]
  },
  {
   "cell_type": "code",
   "execution_count": 15,
   "metadata": {},
   "outputs": [
    {
     "data": {
      "image/svg+xml": [
       "<svg xmlns=\"http://www.w3.org/2000/svg\" xmlns:xlink=\"http://www.w3.org/1999/xlink\" width=\"100.0\" height=\"100.0\" viewBox=\"0.432 -0.768 1.1360000000000001 1.836\" preserveAspectRatio=\"xMinYMin meet\"><g transform=\"matrix(1,0,0,-1,0,0.30000000000000004)\"><polyline fill=\"none\" stroke=\"#66cc99\" stroke-width=\"0.03672\" points=\"0.5,-0.5 1.0,1.0 1.5,-0.7\" opacity=\"0.8\" /></g></svg>"
      ],
      "text/plain": [
       "<shapely.geometry.linestring.LineString at 0x1076c7c50>"
      ]
     },
     "execution_count": 15,
     "metadata": {},
     "output_type": "execute_result"
    }
   ],
   "source": [
    "line2"
   ]
  },
  {
   "cell_type": "code",
   "execution_count": 16,
   "metadata": {},
   "outputs": [
    {
     "name": "stdout",
     "output_type": "stream",
     "text": [
      "line1: \n",
      " LINESTRING (0.5 0.5, 1 -1, 1.5 0.7) \n",
      "\n",
      "line2: \n",
      " LINESTRING (0.5 -0.5, 1 1, 1.5 -0.7) \n",
      "\n"
     ]
    }
   ],
   "source": [
    "# check the lines numerically:\n",
    "print('line1: \\n', line1, '\\n')\n",
    "print('line2: \\n', line2, '\\n')"
   ]
  },
  {
   "cell_type": "code",
   "execution_count": 17,
   "metadata": {},
   "outputs": [
    {
     "data": {
      "text/plain": [
       "shapely.geometry.linestring.LineString"
      ]
     },
     "execution_count": 17,
     "metadata": {},
     "output_type": "execute_result"
    }
   ],
   "source": [
    "# check the time using basic python\n",
    "type(line1)"
   ]
  },
  {
   "cell_type": "code",
   "execution_count": 19,
   "metadata": {},
   "outputs": [
    {
     "data": {
      "text/plain": [
       "'LineString'"
      ]
     },
     "execution_count": 19,
     "metadata": {},
     "output_type": "execute_result"
    }
   ],
   "source": [
    "# and using object attribute\n",
    "line2.geom_type"
   ]
  },
  {
   "cell_type": "code",
   "execution_count": 24,
   "metadata": {},
   "outputs": [],
   "source": [
    "# let's find the length and centroid (sum of \"moments\" divided by total length)\n",
    "l1_length = line1.length\n",
    "l1_centroid = line1.centroid\n",
    "\n",
    "l2_length = line2.length\n",
    "l2_centroid = line2.centroid"
   ]
  },
  {
   "cell_type": "code",
   "execution_count": 26,
   "metadata": {},
   "outputs": [
    {
     "name": "stdout",
     "output_type": "stream",
     "text": [
      "Length of line 1:  3.3531433447511247\n",
      "Centroid of line 1:  POINT (1.014230355293453 -0.1971539289413094)\n",
      "Length of line 2:  3.3531433447511247\n",
      "Centroid of line 2:  POINT (1.014230355293453 0.1971539289413094)\n"
     ]
    }
   ],
   "source": [
    "print('Length of line 1: ', l1_length)\n",
    "print('Centroid of line 1: ', l1_centroid)\n",
    "print('Length of line 2: ', l2_length)\n",
    "print('Centroid of line 2: ', l2_centroid)"
   ]
  },
  {
   "cell_type": "code",
   "execution_count": 27,
   "metadata": {},
   "outputs": [],
   "source": [
    "# and calculate the distance between the centroids in two ways:\n",
    "dist_cent1 = l1_centroid.distance(l2_centroid)\n",
    "line_between_centroids = LineString([l1_centroid, l2_centroid])\n",
    "dist_cent2 = line_between_centroids.length"
   ]
  },
  {
   "cell_type": "code",
   "execution_count": 28,
   "metadata": {},
   "outputs": [
    {
     "name": "stdout",
     "output_type": "stream",
     "text": [
      "distance between centroids (through point distance):  0.3943078578826188\n",
      "distance between centroids (through line length):  0.3943078578826188\n",
      "OMG the two methods give the same result!\n"
     ]
    }
   ],
   "source": [
    "print('distance between centroids (through point distance): ', dist_cent1)\n",
    "print('distance between centroids (through line length): ', dist_cent2)\n",
    "if dist_cent1-dist_cent2 == 0.0:\n",
    "    print('OMG the two methods give the same result!')"
   ]
  },
  {
   "cell_type": "markdown",
   "metadata": {},
   "source": [
    "## Finally, let's look at polygons"
   ]
  },
  {
   "cell_type": "code",
   "execution_count": 31,
   "metadata": {},
   "outputs": [
    {
     "name": "stdout",
     "output_type": "stream",
     "text": [
      "POINT (0.5 0.5) POINT (1 -1) POINT (1.5 0.7)\n"
     ]
    }
   ],
   "source": [
    "print(point1, point2, point3)"
   ]
  },
  {
   "cell_type": "code",
   "execution_count": 35,
   "metadata": {},
   "outputs": [],
   "source": [
    "# create the polygon either by passing points as x,y tuples or by looping through their coordinates\n",
    "\n",
    "poly1 = Polygon([point1, point2, point3])\n",
    "\n",
    "poly2 = Polygon([[p.x, -p.y] for p in (point1, point2, point3)])"
   ]
  },
  {
   "cell_type": "code",
   "execution_count": 36,
   "metadata": {},
   "outputs": [
    {
     "data": {
      "image/svg+xml": [
       "<svg xmlns=\"http://www.w3.org/2000/svg\" xmlns:xlink=\"http://www.w3.org/1999/xlink\" width=\"100.0\" height=\"100.0\" viewBox=\"0.432 -1.068 1.1360000000000001 1.836\" preserveAspectRatio=\"xMinYMin meet\"><g transform=\"matrix(1,0,0,-1,0,-0.30000000000000004)\"><path fill-rule=\"evenodd\" fill=\"#66cc99\" stroke=\"#555555\" stroke-width=\"0.03672\" opacity=\"0.6\" d=\"M 0.5,0.5 L 1.0,-1.0 L 1.5,0.7 L 0.5,0.5 z\" /></g></svg>"
      ],
      "text/plain": [
       "<shapely.geometry.polygon.Polygon at 0x1149ac710>"
      ]
     },
     "execution_count": 36,
     "metadata": {},
     "output_type": "execute_result"
    }
   ],
   "source": [
    "poly1"
   ]
  },
  {
   "cell_type": "code",
   "execution_count": 37,
   "metadata": {},
   "outputs": [
    {
     "data": {
      "image/svg+xml": [
       "<svg xmlns=\"http://www.w3.org/2000/svg\" xmlns:xlink=\"http://www.w3.org/1999/xlink\" width=\"100.0\" height=\"100.0\" viewBox=\"0.432 -0.768 1.1360000000000001 1.836\" preserveAspectRatio=\"xMinYMin meet\"><g transform=\"matrix(1,0,0,-1,0,0.30000000000000004)\"><path fill-rule=\"evenodd\" fill=\"#66cc99\" stroke=\"#555555\" stroke-width=\"0.03672\" opacity=\"0.6\" d=\"M 0.5,-0.5 L 1.0,1.0 L 1.5,-0.7 L 0.5,-0.5 z\" /></g></svg>"
      ],
      "text/plain": [
       "<shapely.geometry.polygon.Polygon at 0x113cb5150>"
      ]
     },
     "execution_count": 37,
     "metadata": {},
     "output_type": "execute_result"
    }
   ],
   "source": [
    "poly2"
   ]
  },
  {
   "cell_type": "code",
   "execution_count": 41,
   "metadata": {},
   "outputs": [
    {
     "name": "stdout",
     "output_type": "stream",
     "text": [
      "POLYGON ((0.5 0.5, 1 -1, 1.5 0.7, 0.5 0.5))\n",
      "POLYGON ((0.5 -0.5, 1 1, 1.5 -0.7, 0.5 -0.5))\n",
      "data type:  Polygon\n"
     ]
    },
    {
     "data": {
      "text/plain": [
       "shapely.geometry.polygon.Polygon"
      ]
     },
     "execution_count": 41,
     "metadata": {},
     "output_type": "execute_result"
    }
   ],
   "source": [
    "# again, print numerically and check the type\n",
    "print(poly1)\n",
    "print(poly2)\n",
    "type(poly1)\n",
    "print('data type: ', poly2.geom_type)"
   ]
  },
  {
   "cell_type": "markdown",
   "metadata": {},
   "source": [
    "### mhh...what else should we know about Polygons? Let's check the help function"
   ]
  },
  {
   "cell_type": "code",
   "execution_count": 43,
   "metadata": {
    "collapsed": true,
    "jupyter": {
     "outputs_hidden": true
    }
   },
   "outputs": [
    {
     "name": "stdout",
     "output_type": "stream",
     "text": [
      "Help on class Polygon in module shapely.geometry.polygon:\n",
      "\n",
      "class Polygon(shapely.geometry.base.BaseGeometry)\n",
      " |  Polygon(shell=None, holes=None)\n",
      " |  \n",
      " |  A two-dimensional figure bounded by a linear ring\n",
      " |  \n",
      " |  A polygon has a non-zero area. It may have one or more negative-space\n",
      " |  \"holes\" which are also bounded by linear rings. If any rings cross each\n",
      " |  other, the feature is invalid and operations on it may fail.\n",
      " |  \n",
      " |  Attributes\n",
      " |  ----------\n",
      " |  exterior : LinearRing\n",
      " |      The ring which bounds the positive space of the polygon.\n",
      " |  interiors : sequence\n",
      " |      A sequence of rings which bound all existing holes.\n",
      " |  \n",
      " |  Method resolution order:\n",
      " |      Polygon\n",
      " |      shapely.geometry.base.BaseGeometry\n",
      " |      builtins.object\n",
      " |  \n",
      " |  Methods defined here:\n",
      " |  \n",
      " |  __eq__(self, other)\n",
      " |      Return self==value.\n",
      " |  \n",
      " |  __init__(self, shell=None, holes=None)\n",
      " |      Parameters\n",
      " |      ----------\n",
      " |      shell : sequence\n",
      " |          A sequence of (x, y [,z]) numeric coordinate pairs or triples.\n",
      " |          Also can be a sequence of Point objects.\n",
      " |      holes : sequence\n",
      " |          A sequence of objects which satisfy the same requirements as the\n",
      " |          shell parameters above\n",
      " |      \n",
      " |      Example\n",
      " |      -------\n",
      " |      Create a square polygon with no holes\n",
      " |      \n",
      " |        >>> coords = ((0., 0.), (0., 1.), (1., 1.), (1., 0.), (0., 0.))\n",
      " |        >>> polygon = Polygon(coords)\n",
      " |        >>> polygon.area\n",
      " |        1.0\n",
      " |  \n",
      " |  __ne__(self, other)\n",
      " |      Return self!=value.\n",
      " |  \n",
      " |  svg(self, scale_factor=1.0, fill_color=None)\n",
      " |      Returns SVG path element for the Polygon geometry.\n",
      " |      \n",
      " |      Parameters\n",
      " |      ==========\n",
      " |      scale_factor : float\n",
      " |          Multiplication factor for the SVG stroke-width.  Default is 1.\n",
      " |      fill_color : str, optional\n",
      " |          Hex string for fill color. Default is to use \"#66cc99\" if\n",
      " |          geometry is valid, and \"#ff3333\" if invalid.\n",
      " |  \n",
      " |  ----------------------------------------------------------------------\n",
      " |  Class methods defined here:\n",
      " |  \n",
      " |  from_bounds(xmin, ymin, xmax, ymax) from builtins.type\n",
      " |      Construct a `Polygon()` from spatial bounds.\n",
      " |  \n",
      " |  ----------------------------------------------------------------------\n",
      " |  Data descriptors defined here:\n",
      " |  \n",
      " |  __array_interface__\n",
      " |      Provide the Numpy array protocol.\n",
      " |  \n",
      " |  __geo_interface__\n",
      " |      Dictionary representation of the geometry\n",
      " |  \n",
      " |  coords\n",
      " |      Access to geometry's coordinates (CoordinateSequence)\n",
      " |  \n",
      " |  ctypes\n",
      " |      Return ctypes buffer\n",
      " |  \n",
      " |  exterior\n",
      " |  \n",
      " |  interiors\n",
      " |  \n",
      " |  ----------------------------------------------------------------------\n",
      " |  Data and other attributes defined here:\n",
      " |  \n",
      " |  __hash__ = None\n",
      " |  \n",
      " |  ----------------------------------------------------------------------\n",
      " |  Methods inherited from shapely.geometry.base.BaseGeometry:\n",
      " |  \n",
      " |  __and__(self, other)\n",
      " |  \n",
      " |  __bool__(self)\n",
      " |  \n",
      " |  __del__(self)\n",
      " |  \n",
      " |  __nonzero__(self)\n",
      " |  \n",
      " |  __or__(self, other)\n",
      " |  \n",
      " |  __reduce__(self)\n",
      " |      Helper for pickle.\n",
      " |  \n",
      " |  __setstate__(self, state)\n",
      " |  \n",
      " |  __str__(self)\n",
      " |      Return str(self).\n",
      " |  \n",
      " |  __sub__(self, other)\n",
      " |  \n",
      " |  __xor__(self, other)\n",
      " |  \n",
      " |  almost_equals(self, other, decimal=6)\n",
      " |      Returns True if geometries are equal at all coordinates to a\n",
      " |      specified decimal place\n",
      " |      \n",
      " |      Refers to approximate coordinate equality, which requires coordinates be\n",
      " |      approximately equal and in the same order for all components of a geometry.\n",
      " |  \n",
      " |  buffer(self, distance, resolution=16, quadsegs=None, cap_style=1, join_style=1, mitre_limit=5.0, single_sided=False)\n",
      " |      Returns a geometry with an envelope at a distance from the object's\n",
      " |      envelope\n",
      " |      \n",
      " |      Parameters\n",
      " |      ==========\n",
      " |      distance: float\n",
      " |          The distance to buffer around the object. A negative distance has a \"shrink\" effect.\n",
      " |          A zero distance may be used to \"tidy\" a polygon.\n",
      " |      resolution: int, optional\n",
      " |          The resolution of the buffer around each vertex of the object.\n",
      " |      quadsegs: int, optional\n",
      " |          Sets the number of line segments used to approximate an angle fillet.\n",
      " |          Note: the use of a `quadsegs` parameter is deprecated and will be gone from\n",
      " |          the next major release.\n",
      " |      cap_style: int, optional\n",
      " |          The styles of caps are: CAP_STYLE.round (1), CAP_STYLE.flat (2), and\n",
      " |          CAP_STYLE.square (3).\n",
      " |      join_style: int, optional\n",
      " |          The styles of joins between offset segments are: JOIN_STYLE.round (1),\n",
      " |          JOIN_STYLE.mitre (2), and JOIN_STYLE.bevel (3).\n",
      " |      mitre_limit: float, optional\n",
      " |          The mitre limit ratio is used for very sharp corners. The mitre ratio\n",
      " |          is the ratio of the distance from the corner to the end of the mitred\n",
      " |          offset corner. When two line segments meet at a sharp angle, a miter\n",
      " |          join will extend the original geometry. To prevent unreasonable\n",
      " |          geometry, the mitre limit allows controlling the maximum length of the\n",
      " |          join corner. Corners with a ratio which exceed the limit will be\n",
      " |          beveled.\n",
      " |      single_side: bool, optional\n",
      " |          The side used is determined by the sign of the buffer distance:\n",
      " |              a positive distance indicates the left-hand side\n",
      " |              a negative distance indicates the right-hand side\n",
      " |          The single-sided buffer of point geometries is the same as the regular buffer.\n",
      " |          The End Cap Style for single-sided buffers is always ignored, and forced to the\n",
      " |          equivalent of CAP_FLAT.\n",
      " |      \n",
      " |      Example:\n",
      " |      \n",
      " |        >>> from shapely.wkt import loads\n",
      " |        >>> g = loads('POINT (0.0 0.0)')\n",
      " |        >>> g.buffer(1.0).area        # 16-gon approx of a unit radius circle\n",
      " |        3.1365484905459389\n",
      " |        >>> g.buffer(1.0, 128).area   # 128-gon approximation\n",
      " |        3.1415138011443009\n",
      " |        >>> g.buffer(1.0, 3).area     # triangle approximation\n",
      " |        3.0\n",
      " |        >>> list(g.buffer(1.0, cap_style=CAP_STYLE.square).exterior.coords)\n",
      " |        [(1.0, 1.0), (1.0, -1.0), (-1.0, -1.0), (-1.0, 1.0), (1.0, 1.0)]\n",
      " |        >>> g.buffer(1.0, cap_style=CAP_STYLE.square).area\n",
      " |        4.0\n",
      " |  \n",
      " |  contains(self, other)\n",
      " |      Returns True if the geometry contains the other, else False\n",
      " |  \n",
      " |  covers(self, other)\n",
      " |      Returns True if the geometry covers the other, else False\n",
      " |  \n",
      " |  crosses(self, other)\n",
      " |      Returns True if the geometries cross, else False\n",
      " |  \n",
      " |  difference(self, other)\n",
      " |      Returns the difference of the geometries\n",
      " |  \n",
      " |  disjoint(self, other)\n",
      " |      Returns True if geometries are disjoint, else False\n",
      " |  \n",
      " |  distance(self, other)\n",
      " |      Unitless distance to other geometry (float)\n",
      " |  \n",
      " |  empty(self, val=140325578489840)\n",
      " |  \n",
      " |  equals(self, other)\n",
      " |      Returns True if geometries are equal, else False\n",
      " |      \n",
      " |      Refers to point-set equality (or topological equality), and is equivalent to\n",
      " |      (self.within(other) & self.contains(other))\n",
      " |  \n",
      " |  equals_exact(self, other, tolerance)\n",
      " |      Returns True if geometries are equal to within a specified\n",
      " |      tolerance\n",
      " |      \n",
      " |      Refers to coordinate equality, which requires coordinates to be equal\n",
      " |      and in the same order for all components of a geometry\n",
      " |  \n",
      " |  geometryType(self)\n",
      " |  \n",
      " |  hausdorff_distance(self, other)\n",
      " |      Unitless hausdorff distance to other geometry (float)\n",
      " |  \n",
      " |  interpolate(self, distance, normalized=False)\n",
      " |      Return a point at the specified distance along a linear geometry\n",
      " |      \n",
      " |      Negative length values are taken as measured in the reverse\n",
      " |      direction from the end of the geometry. Out-of-range index\n",
      " |      values are handled by clamping them to the valid range of values.\n",
      " |      If the normalized arg is True, the distance will be interpreted as a\n",
      " |      fraction of the geometry's length.\n",
      " |  \n",
      " |  intersection(self, other)\n",
      " |      Returns the intersection of the geometries\n",
      " |  \n",
      " |  intersects(self, other)\n",
      " |      Returns True if geometries intersect, else False\n",
      " |  \n",
      " |  overlaps(self, other)\n",
      " |      Returns True if geometries overlap, else False\n",
      " |  \n",
      " |  project(self, other, normalized=False)\n",
      " |      Returns the distance along this geometry to a point nearest the\n",
      " |      specified point\n",
      " |      \n",
      " |      If the normalized arg is True, return the distance normalized to the\n",
      " |      length of the linear geometry.\n",
      " |  \n",
      " |  relate(self, other)\n",
      " |      Returns the DE-9IM intersection matrix for the two geometries\n",
      " |      (string)\n",
      " |  \n",
      " |  relate_pattern(self, other, pattern)\n",
      " |      Returns True if the DE-9IM string code for the relationship between\n",
      " |      the geometries satisfies the pattern, else False\n",
      " |  \n",
      " |  representative_point(self)\n",
      " |      Returns a point guaranteed to be within the object, cheaply.\n",
      " |  \n",
      " |  simplify(self, tolerance, preserve_topology=True)\n",
      " |      Returns a simplified geometry produced by the Douglas-Peucker\n",
      " |      algorithm\n",
      " |      \n",
      " |      Coordinates of the simplified geometry will be no more than the\n",
      " |      tolerance distance from the original. Unless the topology preserving\n",
      " |      option is used, the algorithm may produce self-intersecting or\n",
      " |      otherwise invalid geometries.\n",
      " |  \n",
      " |  symmetric_difference(self, other)\n",
      " |      Returns the symmetric difference of the geometries\n",
      " |      (Shapely geometry)\n",
      " |  \n",
      " |  to_wkb(self)\n",
      " |  \n",
      " |  to_wkt(self)\n",
      " |  \n",
      " |  touches(self, other)\n",
      " |      Returns True if geometries touch, else False\n",
      " |  \n",
      " |  union(self, other)\n",
      " |      Returns the union of the geometries (Shapely geometry)\n",
      " |  \n",
      " |  within(self, other)\n",
      " |      Returns True if geometry is within the other, else False\n",
      " |  \n",
      " |  ----------------------------------------------------------------------\n",
      " |  Data descriptors inherited from shapely.geometry.base.BaseGeometry:\n",
      " |  \n",
      " |  __dict__\n",
      " |      dictionary for instance variables (if defined)\n",
      " |  \n",
      " |  __weakref__\n",
      " |      list of weak references to the object (if defined)\n",
      " |  \n",
      " |  area\n",
      " |      Unitless area of the geometry (float)\n",
      " |  \n",
      " |  array_interface_base\n",
      " |  \n",
      " |  boundary\n",
      " |      Returns a lower dimension geometry that bounds the object\n",
      " |      \n",
      " |      The boundary of a polygon is a line, the boundary of a line is a\n",
      " |      collection of points. The boundary of a point is an empty (null)\n",
      " |      collection.\n",
      " |  \n",
      " |  bounds\n",
      " |      Returns minimum bounding region (minx, miny, maxx, maxy)\n",
      " |  \n",
      " |  centroid\n",
      " |      Returns the geometric center of the object\n",
      " |  \n",
      " |  convex_hull\n",
      " |      Imagine an elastic band stretched around the geometry: that's a\n",
      " |      convex hull, more or less\n",
      " |      \n",
      " |      The convex hull of a three member multipoint, for example, is a\n",
      " |      triangular polygon.\n",
      " |  \n",
      " |  envelope\n",
      " |      A figure that envelopes the geometry\n",
      " |  \n",
      " |  geom_type\n",
      " |      Name of the geometry's type, such as 'Point'\n",
      " |  \n",
      " |  has_z\n",
      " |      True if the geometry's coordinate sequence(s) have z values (are\n",
      " |      3-dimensional)\n",
      " |  \n",
      " |  is_closed\n",
      " |      True if the geometry is closed, else False\n",
      " |      \n",
      " |      Applicable only to 1-D geometries.\n",
      " |  \n",
      " |  is_empty\n",
      " |      True if the set of points in this geometry is empty, else False\n",
      " |  \n",
      " |  is_ring\n",
      " |      True if the geometry is a closed ring, else False\n",
      " |  \n",
      " |  is_simple\n",
      " |      True if the geometry is simple, meaning that any self-intersections\n",
      " |      are only at boundary points, else False\n",
      " |  \n",
      " |  is_valid\n",
      " |      True if the geometry is valid (definition depends on sub-class),\n",
      " |      else False\n",
      " |  \n",
      " |  length\n",
      " |      Unitless length of the geometry (float)\n",
      " |  \n",
      " |  minimum_rotated_rectangle\n",
      " |      Returns the general minimum bounding rectangle of\n",
      " |      the geometry. Can possibly be rotated. If the convex hull\n",
      " |      of the object is a degenerate (line or point) this same degenerate\n",
      " |      is returned.\n",
      " |  \n",
      " |  type\n",
      " |  \n",
      " |  wkb\n",
      " |      WKB representation of the geometry\n",
      " |  \n",
      " |  wkb_hex\n",
      " |      WKB hex representation of the geometry\n",
      " |  \n",
      " |  wkt\n",
      " |      WKT representation of the geometry\n",
      " |  \n",
      " |  xy\n",
      " |      Separate arrays of X and Y coordinate values\n",
      " |  \n",
      " |  ----------------------------------------------------------------------\n",
      " |  Data and other attributes inherited from shapely.geometry.base.BaseGeometry:\n",
      " |  \n",
      " |  __geom__ = 140325578489840\n",
      " |  \n",
      " |  __p__ = None\n",
      " |  \n",
      " |  impl = <GEOSImpl object: GEOS C API version (1, 8, 0)>\n",
      "\n"
     ]
    }
   ],
   "source": [
    "help(Polygon)"
   ]
  },
  {
   "cell_type": "markdown",
   "metadata": {},
   "source": [
    "### Polygons can have holes... let's make a world polygon with a hole"
   ]
  },
  {
   "cell_type": "code",
   "execution_count": 48,
   "metadata": {},
   "outputs": [],
   "source": [
    "poly_outer = [(-180, 90), (-180, -90), (180, -90), (180, 90)]\n",
    "hole_20deg = [[(-160, 70), (-160, -70), (160, -70), (160, 70)]]\n",
    "\n",
    "world = Polygon(shell=poly_outer)\n",
    "world_w_hole = Polygon(shell=poly_outer, holes = hole_20deg)"
   ]
  },
  {
   "cell_type": "code",
   "execution_count": 45,
   "metadata": {},
   "outputs": [
    {
     "data": {
      "image/svg+xml": [
       "<svg xmlns=\"http://www.w3.org/2000/svg\" xmlns:xlink=\"http://www.w3.org/1999/xlink\" width=\"300\" height=\"208.8\" viewBox=\"-194.4 -104.4 388.8 208.8\" preserveAspectRatio=\"xMinYMin meet\"><g transform=\"matrix(1,0,0,-1,0,0.0)\"><path fill-rule=\"evenodd\" fill=\"#66cc99\" stroke=\"#555555\" stroke-width=\"2.592\" opacity=\"0.6\" d=\"M -180.0,90.0 L -180.0,-90.0 L 180.0,-90.0 L 180.0,90.0 L -180.0,90.0 z\" /></g></svg>"
      ],
      "text/plain": [
       "<shapely.geometry.polygon.Polygon at 0x1149acfd0>"
      ]
     },
     "execution_count": 45,
     "metadata": {},
     "output_type": "execute_result"
    }
   ],
   "source": [
    "world"
   ]
  },
  {
   "cell_type": "code",
   "execution_count": 49,
   "metadata": {},
   "outputs": [
    {
     "data": {
      "image/svg+xml": [
       "<svg xmlns=\"http://www.w3.org/2000/svg\" xmlns:xlink=\"http://www.w3.org/1999/xlink\" width=\"300\" height=\"208.8\" viewBox=\"-194.4 -104.4 388.8 208.8\" preserveAspectRatio=\"xMinYMin meet\"><g transform=\"matrix(1,0,0,-1,0,0.0)\"><path fill-rule=\"evenodd\" fill=\"#66cc99\" stroke=\"#555555\" stroke-width=\"2.592\" opacity=\"0.6\" d=\"M -180.0,90.0 L -180.0,-90.0 L 180.0,-90.0 L 180.0,90.0 L -180.0,90.0 z M -160.0,70.0 L -160.0,-70.0 L 160.0,-70.0 L 160.0,70.0 L -160.0,70.0 z\" /></g></svg>"
      ],
      "text/plain": [
       "<shapely.geometry.polygon.Polygon at 0x1149d1f10>"
      ]
     },
     "execution_count": 49,
     "metadata": {},
     "output_type": "execute_result"
    }
   ],
   "source": [
    "world_w_hole"
   ]
  },
  {
   "cell_type": "code",
   "execution_count": 50,
   "metadata": {},
   "outputs": [
    {
     "name": "stdout",
     "output_type": "stream",
     "text": [
      "POLYGON ((-180 90, -180 -90, 180 -90, 180 90, -180 90))\n",
      "POLYGON ((-180 90, -180 -90, 180 -90, 180 90, -180 90), (-160 70, -160 -70, 160 -70, 160 70, -160 70))\n"
     ]
    },
    {
     "data": {
      "text/plain": [
       "'Polygon'"
      ]
     },
     "execution_count": 50,
     "metadata": {},
     "output_type": "execute_result"
    }
   ],
   "source": [
    "#let's look at the numerical data, which should be a bit more complex this time\n",
    "print(world)\n",
    "print(world_w_hole)\n",
    "world_w_hole.geom_type"
   ]
  },
  {
   "cell_type": "code",
   "execution_count": 51,
   "metadata": {},
   "outputs": [],
   "source": [
    "# And finally, look at some build-in attributes (see help output above)\n",
    "\n",
    "# Get the centroid of the Polygon\n",
    "world_centroid = world.centroid\n",
    "\n",
    "# Get the area of the Polygon\n",
    "world_area = world.area\n",
    "\n",
    "# Get the bounds of the Polygon (i.e. bounding box)\n",
    "world_bbox = world.bounds\n",
    "\n",
    "# Get the exterior of the Polygon\n",
    "world_ext = world.exterior\n",
    "\n",
    "# Get the length of the exterior\n",
    "world_ext_length = world_ext.length"
   ]
  },
  {
   "cell_type": "code",
   "execution_count": 52,
   "metadata": {},
   "outputs": [
    {
     "name": "stdout",
     "output_type": "stream",
     "text": [
      "World centroid:  POINT (-0 -0)\n",
      "World Area:  64800.0\n",
      "World Bounding Box:  (-180.0, -90.0, 180.0, 90.0)\n",
      "World Exterior:  LINEARRING (-180 90, -180 -90, 180 -90, 180 90, -180 90)\n",
      "World Exterior Length:  1080.0\n"
     ]
    }
   ],
   "source": [
    "# Print the outputs\n",
    "print(\"World centroid: \", world_centroid)\n",
    "print(\"World Area: \", world_area)\n",
    "print(\"World Bounding Box: \", world_bbox)\n",
    "print(\"World Exterior: \", world_ext)\n",
    "print(\"World Exterior Length: \", world_ext_length)"
   ]
  },
  {
   "cell_type": "code",
   "execution_count": null,
   "metadata": {},
   "outputs": [],
   "source": []
  }
 ],
 "metadata": {
  "kernelspec": {
   "display_name": "Python 3",
   "language": "python",
   "name": "python3"
  },
  "language_info": {
   "codemirror_mode": {
    "name": "ipython",
    "version": 3
   },
   "file_extension": ".py",
   "mimetype": "text/x-python",
   "name": "python",
   "nbconvert_exporter": "python",
   "pygments_lexer": "ipython3",
   "version": "3.7.7"
  }
 },
 "nbformat": 4,
 "nbformat_minor": 4
}
